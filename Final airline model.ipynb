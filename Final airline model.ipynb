{
 "cells": [
  {
   "cell_type": "markdown",
   "id": "1eef31aa",
   "metadata": {},
   "source": [
    "# Airline Regression Model "
   ]
  },
  {
   "cell_type": "markdown",
   "id": "93f53b6c",
   "metadata": {},
   "source": [
    "by"
   ]
  },
  {
   "cell_type": "markdown",
   "id": "5e2684bc",
   "metadata": {},
   "source": [
    "**Remella Satya Ramana Kumar**"
   ]
  },
  {
   "cell_type": "code",
   "execution_count": 73,
   "id": "057b760d",
   "metadata": {},
   "outputs": [],
   "source": [
    "import warnings\n",
    "warnings.filterwarnings('ignore')"
   ]
  },
  {
   "cell_type": "code",
   "execution_count": 74,
   "id": "f016172f",
   "metadata": {},
   "outputs": [],
   "source": [
    "# Import necessary libraries\n",
    "\n",
    "import numpy as np\n",
    "import pandas as pd\n",
    "import matplotlib.pyplot as plt\n",
    "import seaborn as sns\n",
    "\n",
    "from sklearn.model_selection import train_test_split\n",
    "from sklearn.preprocessing import MinMaxScaler\n",
    "from sklearn.feature_selection import RFE\n",
    "from sklearn.linear_model import LinearRegression\n",
    "from statsmodels.stats.outliers_influence import variance_inflation_factor\n",
    "import statsmodels.api as sm\n",
    "from sklearn.metrics import r2_score"
   ]
  },
  {
   "cell_type": "code",
   "execution_count": 75,
   "id": "bda72848",
   "metadata": {},
   "outputs": [],
   "source": [
    "data = pd.read_csv(\"S:\\Airline data\\BA_AirlineReviews.csv\",low_memory=False)"
   ]
  },
  {
   "cell_type": "markdown",
   "id": "c6991f5b",
   "metadata": {},
   "source": [
    "# EDA"
   ]
  },
  {
   "cell_type": "markdown",
   "id": "1f179c7b",
   "metadata": {},
   "source": [
    "**Name Unnamed Column**"
   ]
  },
  {
   "cell_type": "code",
   "execution_count": 76,
   "id": "34dc0764",
   "metadata": {},
   "outputs": [],
   "source": [
    "if any('Unnamed' in col for col in data.columns):\n",
    "    # Rename the first unnamed column to 'New_Name'\n",
    "    data.rename(columns={'Unnamed: 0': 'ID'}, inplace=True)"
   ]
  },
  {
   "cell_type": "code",
   "execution_count": 77,
   "id": "14d6c959",
   "metadata": {},
   "outputs": [
    {
     "data": {
      "text/plain": [
       "<bound method NDFrame.head of         ID  OverallRating                              ReviewHeader  \\\n",
       "0        0            1.0    \"Service level far worse then Ryanair\"   \n",
       "1        1            3.0  \"do not upgrade members based on status\"   \n",
       "2        2            8.0             \"Flight was smooth and quick\"   \n",
       "3        3            1.0             \"Absolutely hopeless airline\"   \n",
       "4        4            1.0        \"Customer Service is non existent\"   \n",
       "...    ...            ...                                       ...   \n",
       "3696  3696            1.0           British Airways customer review   \n",
       "3697  3697            9.0           British Airways customer review   \n",
       "3698  3698            5.0           British Airways customer review   \n",
       "3699  3699            4.0           British Airways customer review   \n",
       "3700  3700            4.0           British Airways customer review   \n",
       "\n",
       "                  Name            Datetime  VerifiedReview  \\\n",
       "0              L Keele  19th November 2023            True   \n",
       "1         Austin Jones  19th November 2023            True   \n",
       "2           M A Collie  16th November 2023           False   \n",
       "3           Nigel Dean  16th November 2023            True   \n",
       "4     Gaylynne Simpson  14th November 2023           False   \n",
       "...                ...                 ...             ...   \n",
       "3696       J Robertson    29th August 2012           False   \n",
       "3697        Nick Berry    28th August 2012           False   \n",
       "3698     Avril Barclay   12th October 2011           False   \n",
       "3699            C Volz   11th October 2011           False   \n",
       "3700         Russ King    9th October 2011           False   \n",
       "\n",
       "                                             ReviewBody TypeOfTraveller  \\\n",
       "0     4 Hours before takeoff we received a Mail stat...  Couple Leisure   \n",
       "1     I recently had a delay on British Airways from...        Business   \n",
       "2     Boarded on time, but it took ages to get to th...  Couple Leisure   \n",
       "3     5 days before the flight, we were advised by B...  Couple Leisure   \n",
       "4     We traveled to Lisbon for our dream vacation, ...  Couple Leisure   \n",
       "...                                                 ...             ...   \n",
       "3696  This was a bmi Regional operated flight on a R...             NaN   \n",
       "3697  LHR to HAM. Purser addresses all club passenge...             NaN   \n",
       "3698  My son who had worked for British Airways urge...             NaN   \n",
       "3699  London City-New York JFK via Shannon on A318 b...             NaN   \n",
       "3700  SIN-LHR BA12 B747-436 First Class. Old aircraf...             NaN   \n",
       "\n",
       "             SeatType                      Route      DateFlown  SeatComfort  \\\n",
       "0       Economy Class        London to Stuttgart  November 2023          1.0   \n",
       "1       Economy Class         Brussels to London  November 2023          2.0   \n",
       "2      Business Class  London Heathrow to Dublin  November 2023          3.0   \n",
       "3       Economy Class           London to Dublin  December 2022          3.0   \n",
       "4       Economy Class           London to Lisbon  November 2023          1.0   \n",
       "...               ...                        ...            ...          ...   \n",
       "3696    Economy Class                        NaN            NaN          3.0   \n",
       "3697   Business Class                        NaN            NaN          4.0   \n",
       "3698    Economy Class                        NaN            NaN          NaN   \n",
       "3699  Premium Economy                        NaN            NaN          1.0   \n",
       "3700      First Class                        NaN            NaN          4.0   \n",
       "\n",
       "      CabinStaffService  GroundService  ValueForMoney Recommended Aircraft  \\\n",
       "0                   1.0            1.0            1.0          no      NaN   \n",
       "1                   3.0            1.0            2.0          no     A320   \n",
       "2                   3.0            4.0            3.0         yes     A320   \n",
       "3                   3.0            1.0            1.0          no      NaN   \n",
       "4                   1.0            1.0            1.0          no      NaN   \n",
       "...                 ...            ...            ...         ...      ...   \n",
       "3696                1.0            NaN            3.0          no      NaN   \n",
       "3697                5.0            NaN            3.0         yes      NaN   \n",
       "3698                NaN            NaN            4.0         yes      NaN   \n",
       "3699                3.0            NaN            1.0          no      NaN   \n",
       "3700                5.0            NaN            2.0          no      NaN   \n",
       "\n",
       "      Food&Beverages  InflightEntertainment  Wifi&Connectivity  \n",
       "0                NaN                    NaN                NaN  \n",
       "1                1.0                    2.0                2.0  \n",
       "2                4.0                    NaN                NaN  \n",
       "3                NaN                    NaN                NaN  \n",
       "4                1.0                    1.0                1.0  \n",
       "...              ...                    ...                ...  \n",
       "3696             2.0                    NaN                NaN  \n",
       "3697             4.0                    NaN                NaN  \n",
       "3698             NaN                    NaN                NaN  \n",
       "3699             5.0                    NaN                NaN  \n",
       "3700             5.0                    2.0                NaN  \n",
       "\n",
       "[3701 rows x 20 columns]>"
      ]
     },
     "execution_count": 77,
     "metadata": {},
     "output_type": "execute_result"
    }
   ],
   "source": [
    "data.head"
   ]
  },
  {
   "cell_type": "code",
   "execution_count": 78,
   "id": "bdcf20d9",
   "metadata": {},
   "outputs": [
    {
     "data": {
      "text/plain": [
       "[RangeIndex(start=0, stop=3701, step=1),\n",
       " Index(['ID', 'OverallRating', 'ReviewHeader', 'Name', 'Datetime',\n",
       "        'VerifiedReview', 'ReviewBody', 'TypeOfTraveller', 'SeatType', 'Route',\n",
       "        'DateFlown', 'SeatComfort', 'CabinStaffService', 'GroundService',\n",
       "        'ValueForMoney', 'Recommended', 'Aircraft', 'Food&Beverages',\n",
       "        'InflightEntertainment', 'Wifi&Connectivity'],\n",
       "       dtype='object')]"
      ]
     },
     "execution_count": 78,
     "metadata": {},
     "output_type": "execute_result"
    }
   ],
   "source": [
    "data.axes"
   ]
  },
  {
   "cell_type": "code",
   "execution_count": 79,
   "id": "981bcc8b",
   "metadata": {},
   "outputs": [],
   "source": [
    "data = data.drop(['ID'],axis=1)"
   ]
  },
  {
   "cell_type": "code",
   "execution_count": 80,
   "id": "ad9c0a43",
   "metadata": {},
   "outputs": [
    {
     "data": {
      "text/plain": [
       "OverallRating              10\n",
       "ReviewHeader             2684\n",
       "Name                     2906\n",
       "Datetime                 1820\n",
       "VerifiedReview              2\n",
       "ReviewBody               3692\n",
       "TypeOfTraveller             4\n",
       "SeatType                    4\n",
       "Route                    1590\n",
       "DateFlown                 112\n",
       "SeatComfort                 5\n",
       "CabinStaffService           5\n",
       "GroundService               5\n",
       "ValueForMoney               5\n",
       "Recommended                 2\n",
       "Aircraft                  202\n",
       "Food&Beverages              5\n",
       "InflightEntertainment       5\n",
       "Wifi&Connectivity           5\n",
       "dtype: int64"
      ]
     },
     "execution_count": 80,
     "metadata": {},
     "output_type": "execute_result"
    }
   ],
   "source": [
    "data.nunique()"
   ]
  },
  {
   "cell_type": "code",
   "execution_count": 81,
   "id": "f8927206",
   "metadata": {},
   "outputs": [
    {
     "data": {
      "text/plain": [
       "<bound method DataFrame.info of       OverallRating                              ReviewHeader  \\\n",
       "0               1.0    \"Service level far worse then Ryanair\"   \n",
       "1               3.0  \"do not upgrade members based on status\"   \n",
       "2               8.0             \"Flight was smooth and quick\"   \n",
       "3               1.0             \"Absolutely hopeless airline\"   \n",
       "4               1.0        \"Customer Service is non existent\"   \n",
       "...             ...                                       ...   \n",
       "3696            1.0           British Airways customer review   \n",
       "3697            9.0           British Airways customer review   \n",
       "3698            5.0           British Airways customer review   \n",
       "3699            4.0           British Airways customer review   \n",
       "3700            4.0           British Airways customer review   \n",
       "\n",
       "                  Name            Datetime  VerifiedReview  \\\n",
       "0              L Keele  19th November 2023            True   \n",
       "1         Austin Jones  19th November 2023            True   \n",
       "2           M A Collie  16th November 2023           False   \n",
       "3           Nigel Dean  16th November 2023            True   \n",
       "4     Gaylynne Simpson  14th November 2023           False   \n",
       "...                ...                 ...             ...   \n",
       "3696       J Robertson    29th August 2012           False   \n",
       "3697        Nick Berry    28th August 2012           False   \n",
       "3698     Avril Barclay   12th October 2011           False   \n",
       "3699            C Volz   11th October 2011           False   \n",
       "3700         Russ King    9th October 2011           False   \n",
       "\n",
       "                                             ReviewBody TypeOfTraveller  \\\n",
       "0     4 Hours before takeoff we received a Mail stat...  Couple Leisure   \n",
       "1     I recently had a delay on British Airways from...        Business   \n",
       "2     Boarded on time, but it took ages to get to th...  Couple Leisure   \n",
       "3     5 days before the flight, we were advised by B...  Couple Leisure   \n",
       "4     We traveled to Lisbon for our dream vacation, ...  Couple Leisure   \n",
       "...                                                 ...             ...   \n",
       "3696  This was a bmi Regional operated flight on a R...             NaN   \n",
       "3697  LHR to HAM. Purser addresses all club passenge...             NaN   \n",
       "3698  My son who had worked for British Airways urge...             NaN   \n",
       "3699  London City-New York JFK via Shannon on A318 b...             NaN   \n",
       "3700  SIN-LHR BA12 B747-436 First Class. Old aircraf...             NaN   \n",
       "\n",
       "             SeatType                      Route      DateFlown  SeatComfort  \\\n",
       "0       Economy Class        London to Stuttgart  November 2023          1.0   \n",
       "1       Economy Class         Brussels to London  November 2023          2.0   \n",
       "2      Business Class  London Heathrow to Dublin  November 2023          3.0   \n",
       "3       Economy Class           London to Dublin  December 2022          3.0   \n",
       "4       Economy Class           London to Lisbon  November 2023          1.0   \n",
       "...               ...                        ...            ...          ...   \n",
       "3696    Economy Class                        NaN            NaN          3.0   \n",
       "3697   Business Class                        NaN            NaN          4.0   \n",
       "3698    Economy Class                        NaN            NaN          NaN   \n",
       "3699  Premium Economy                        NaN            NaN          1.0   \n",
       "3700      First Class                        NaN            NaN          4.0   \n",
       "\n",
       "      CabinStaffService  GroundService  ValueForMoney Recommended Aircraft  \\\n",
       "0                   1.0            1.0            1.0          no      NaN   \n",
       "1                   3.0            1.0            2.0          no     A320   \n",
       "2                   3.0            4.0            3.0         yes     A320   \n",
       "3                   3.0            1.0            1.0          no      NaN   \n",
       "4                   1.0            1.0            1.0          no      NaN   \n",
       "...                 ...            ...            ...         ...      ...   \n",
       "3696                1.0            NaN            3.0          no      NaN   \n",
       "3697                5.0            NaN            3.0         yes      NaN   \n",
       "3698                NaN            NaN            4.0         yes      NaN   \n",
       "3699                3.0            NaN            1.0          no      NaN   \n",
       "3700                5.0            NaN            2.0          no      NaN   \n",
       "\n",
       "      Food&Beverages  InflightEntertainment  Wifi&Connectivity  \n",
       "0                NaN                    NaN                NaN  \n",
       "1                1.0                    2.0                2.0  \n",
       "2                4.0                    NaN                NaN  \n",
       "3                NaN                    NaN                NaN  \n",
       "4                1.0                    1.0                1.0  \n",
       "...              ...                    ...                ...  \n",
       "3696             2.0                    NaN                NaN  \n",
       "3697             4.0                    NaN                NaN  \n",
       "3698             NaN                    NaN                NaN  \n",
       "3699             5.0                    NaN                NaN  \n",
       "3700             5.0                    2.0                NaN  \n",
       "\n",
       "[3701 rows x 19 columns]>"
      ]
     },
     "execution_count": 81,
     "metadata": {},
     "output_type": "execute_result"
    }
   ],
   "source": [
    "data.info"
   ]
  },
  {
   "cell_type": "code",
   "execution_count": 82,
   "id": "af1458d3",
   "metadata": {},
   "outputs": [],
   "source": [
    "data = data.drop(['ReviewHeader','Name','Datetime','Aircraft','ReviewBody','Route','DateFlown'],axis=1)"
   ]
  },
  {
   "cell_type": "code",
   "execution_count": 83,
   "id": "340df04d",
   "metadata": {},
   "outputs": [
    {
     "data": {
      "text/plain": [
       "Index(['OverallRating', 'VerifiedReview', 'TypeOfTraveller', 'SeatType',\n",
       "       'SeatComfort', 'CabinStaffService', 'GroundService', 'ValueForMoney',\n",
       "       'Recommended', 'Food&Beverages', 'InflightEntertainment',\n",
       "       'Wifi&Connectivity'],\n",
       "      dtype='object')"
      ]
     },
     "execution_count": 83,
     "metadata": {},
     "output_type": "execute_result"
    }
   ],
   "source": [
    "data.columns"
   ]
  },
  {
   "cell_type": "code",
   "execution_count": 84,
   "id": "e6dc5a24",
   "metadata": {},
   "outputs": [],
   "source": [
    "data = data.drop(['VerifiedReview'],axis=1)"
   ]
  },
  {
   "cell_type": "code",
   "execution_count": 85,
   "id": "8e3425f0",
   "metadata": {},
   "outputs": [
    {
     "data": {
      "text/plain": [
       "[RangeIndex(start=0, stop=3701, step=1),\n",
       " Index(['OverallRating', 'TypeOfTraveller', 'SeatType', 'SeatComfort',\n",
       "        'CabinStaffService', 'GroundService', 'ValueForMoney', 'Recommended',\n",
       "        'Food&Beverages', 'InflightEntertainment', 'Wifi&Connectivity'],\n",
       "       dtype='object')]"
      ]
     },
     "execution_count": 85,
     "metadata": {},
     "output_type": "execute_result"
    }
   ],
   "source": [
    "data.axes"
   ]
  },
  {
   "cell_type": "code",
   "execution_count": 86,
   "id": "7b666e84",
   "metadata": {},
   "outputs": [
    {
     "data": {
      "text/plain": [
       "OverallRating             0.14\n",
       "TypeOfTraveller          20.83\n",
       "SeatType                  0.05\n",
       "SeatComfort               3.13\n",
       "CabinStaffService         3.43\n",
       "GroundService            22.86\n",
       "ValueForMoney             0.03\n",
       "Food&Beverages           10.43\n",
       "InflightEntertainment    31.07\n",
       "Wifi&Connectivity        83.54\n",
       "dtype: float64"
      ]
     },
     "execution_count": 86,
     "metadata": {},
     "output_type": "execute_result"
    }
   ],
   "source": [
    "c= data.isnull().sum()\n",
    "i = len(data.index)\n",
    "null_data = round(100*(c/i), 2)\n",
    "null_data[ null_data > 0 ]"
   ]
  },
  {
   "cell_type": "code",
   "execution_count": 87,
   "id": "26031fa5",
   "metadata": {},
   "outputs": [],
   "source": [
    "data.OverallRating = data.OverallRating.fillna(data.OverallRating.median())\n",
    "data.SeatComfort = data.SeatComfort.fillna(data.SeatComfort.median()) \n",
    "data.ValueForMoney = data.ValueForMoney.fillna(data.ValueForMoney.median())\n",
    "data.SeatType = data.SeatType.fillna('NA')\n",
    "data.TypeOfTraveller = data.TypeOfTraveller.fillna('NA')\n",
    "data.InflightEntertainment = data.InflightEntertainment.fillna(data.InflightEntertainment.median())"
   ]
  },
  {
   "cell_type": "code",
   "execution_count": 88,
   "id": "2f126291",
   "metadata": {},
   "outputs": [],
   "source": [
    "data.rename(columns={'Food&Beverages':'Food'}, inplace=True)"
   ]
  },
  {
   "cell_type": "code",
   "execution_count": 89,
   "id": "6922cc1f",
   "metadata": {},
   "outputs": [
    {
     "data": {
      "text/plain": [
       "CabinStaffService     3.43\n",
       "GroundService        22.86\n",
       "Food                 10.43\n",
       "Wifi&Connectivity    83.54\n",
       "dtype: float64"
      ]
     },
     "execution_count": 89,
     "metadata": {},
     "output_type": "execute_result"
    }
   ],
   "source": [
    "c= data.isnull().sum()\n",
    "i = len(data.index)\n",
    "null_data= round(100*(c/i),2)\n",
    "null_data[ null_data > 0 ]"
   ]
  },
  {
   "cell_type": "code",
   "execution_count": 90,
   "id": "12c6e81d",
   "metadata": {},
   "outputs": [],
   "source": [
    "data.GroundService = data.GroundService.fillna(data.GroundService.median())\n",
    "data.CabinStaffService = data.CabinStaffService.fillna(data.CabinStaffService.median())\n",
    "data.Food  = data.Food.fillna(data.Food.median())"
   ]
  },
  {
   "cell_type": "code",
   "execution_count": 91,
   "id": "d5e5e599",
   "metadata": {},
   "outputs": [],
   "source": [
    "data.Recommended = data.Recommended.map({'yes':1, 'no':1})"
   ]
  },
  {
   "cell_type": "code",
   "execution_count": 92,
   "id": "27cf6156",
   "metadata": {},
   "outputs": [],
   "source": [
    "data = data.drop(['Wifi&Connectivity'],axis=1)"
   ]
  },
  {
   "cell_type": "code",
   "execution_count": 93,
   "id": "d0aebf0d",
   "metadata": {},
   "outputs": [
    {
     "data": {
      "text/plain": [
       "Series([], dtype: float64)"
      ]
     },
     "execution_count": 93,
     "metadata": {},
     "output_type": "execute_result"
    }
   ],
   "source": [
    "c= data.isnull().sum()\n",
    "i = len(data.index)\n",
    "null_data= round(100*(c/i),2)\n",
    "null_data[ null_data > 0 ]"
   ]
  },
  {
   "cell_type": "code",
   "execution_count": 94,
   "id": "9677bec0",
   "metadata": {
    "scrolled": true
   },
   "outputs": [
    {
     "data": {
      "text/plain": [
       "OverallRating            float64\n",
       "TypeOfTraveller           object\n",
       "SeatType                  object\n",
       "SeatComfort              float64\n",
       "CabinStaffService        float64\n",
       "GroundService            float64\n",
       "ValueForMoney            float64\n",
       "Recommended                int64\n",
       "Food                     float64\n",
       "InflightEntertainment    float64\n",
       "dtype: object"
      ]
     },
     "execution_count": 94,
     "metadata": {},
     "output_type": "execute_result"
    }
   ],
   "source": [
    "data.dtypes"
   ]
  },
  {
   "cell_type": "code",
   "execution_count": 95,
   "id": "a2cb88aa",
   "metadata": {},
   "outputs": [],
   "source": [
    "data = pd.get_dummies(data = data , columns = [ 'TypeOfTraveller', 'SeatType', 'SeatComfort','Food','InflightEntertainment'],drop_first=True)"
   ]
  },
  {
   "cell_type": "code",
   "execution_count": 96,
   "id": "4db983f7",
   "metadata": {},
   "outputs": [
    {
     "data": {
      "text/plain": [
       "[RangeIndex(start=0, stop=3701, step=1),\n",
       " Index(['OverallRating', 'CabinStaffService', 'GroundService', 'ValueForMoney',\n",
       "        'Recommended', 'TypeOfTraveller_Couple Leisure',\n",
       "        'TypeOfTraveller_Family Leisure', 'TypeOfTraveller_NA',\n",
       "        'TypeOfTraveller_Solo Leisure', 'SeatType_Economy Class',\n",
       "        'SeatType_First Class', 'SeatType_NA', 'SeatType_Premium Economy',\n",
       "        'SeatComfort_2.0', 'SeatComfort_3.0', 'SeatComfort_4.0',\n",
       "        'SeatComfort_5.0', 'Food_2.0', 'Food_3.0', 'Food_4.0', 'Food_5.0',\n",
       "        'InflightEntertainment_2.0', 'InflightEntertainment_3.0',\n",
       "        'InflightEntertainment_4.0', 'InflightEntertainment_5.0'],\n",
       "       dtype='object')]"
      ]
     },
     "execution_count": 96,
     "metadata": {},
     "output_type": "execute_result"
    }
   ],
   "source": [
    "data.axes"
   ]
  },
  {
   "cell_type": "code",
   "execution_count": 97,
   "id": "8e2eab95",
   "metadata": {},
   "outputs": [
    {
     "data": {
      "text/plain": [
       "(3701, 25)"
      ]
     },
     "execution_count": 97,
     "metadata": {},
     "output_type": "execute_result"
    }
   ],
   "source": [
    "data.shape"
   ]
  },
  {
   "cell_type": "code",
   "execution_count": 98,
   "id": "c5d5d51b",
   "metadata": {},
   "outputs": [],
   "source": [
    "numeric_vars = data.select_dtypes(include=[\"int64\",\"float64\"])"
   ]
  },
  {
   "cell_type": "code",
   "execution_count": 99,
   "id": "716037a6",
   "metadata": {},
   "outputs": [
    {
     "data": {
      "text/plain": [
       "[RangeIndex(start=0, stop=3701, step=1),\n",
       " Index(['OverallRating', 'CabinStaffService', 'GroundService', 'ValueForMoney',\n",
       "        'Recommended'],\n",
       "       dtype='object')]"
      ]
     },
     "execution_count": 99,
     "metadata": {},
     "output_type": "execute_result"
    }
   ],
   "source": [
    "numeric_vars.axes"
   ]
  },
  {
   "cell_type": "markdown",
   "id": "5772a3a4",
   "metadata": {},
   "source": [
    "# Regression analysis"
   ]
  },
  {
   "cell_type": "markdown",
   "id": "e0c8abfa",
   "metadata": {},
   "source": [
    "**The target Variable is Overall rating**"
   ]
  },
  {
   "cell_type": "code",
   "execution_count": 100,
   "id": "ac750b6a",
   "metadata": {},
   "outputs": [],
   "source": [
    "y= data.pop('OverallRating')"
   ]
  },
  {
   "cell_type": "code",
   "execution_count": 101,
   "id": "88231023",
   "metadata": {},
   "outputs": [],
   "source": [
    "X= data"
   ]
  },
  {
   "cell_type": "code",
   "execution_count": 102,
   "id": "59471cc1",
   "metadata": {},
   "outputs": [
    {
     "name": "stdout",
     "output_type": "stream",
     "text": [
      "0       1.0\n",
      "1       3.0\n",
      "2       8.0\n",
      "3       1.0\n",
      "4       1.0\n",
      "       ... \n",
      "3696    1.0\n",
      "3697    9.0\n",
      "3698    5.0\n",
      "3699    4.0\n",
      "3700    4.0\n",
      "Name: OverallRating, Length: 3701, dtype: float64\n"
     ]
    }
   ],
   "source": [
    "print(y)"
   ]
  },
  {
   "cell_type": "code",
   "execution_count": 103,
   "id": "68d6395f",
   "metadata": {},
   "outputs": [],
   "source": [
    "X_train, X_test, y_train, y_test = train_test_split(X, y,train_size=0.7 ,test_size=0.3, random_state=100)"
   ]
  },
  {
   "cell_type": "code",
   "execution_count": 104,
   "id": "f2866f16",
   "metadata": {},
   "outputs": [
    {
     "data": {
      "text/plain": [
       "(2590, 24)"
      ]
     },
     "execution_count": 104,
     "metadata": {},
     "output_type": "execute_result"
    }
   ],
   "source": [
    "X_train.shape"
   ]
  },
  {
   "cell_type": "code",
   "execution_count": 105,
   "id": "90219cf3",
   "metadata": {},
   "outputs": [
    {
     "data": {
      "text/plain": [
       "(1111, 24)"
      ]
     },
     "execution_count": 105,
     "metadata": {},
     "output_type": "execute_result"
    }
   ],
   "source": [
    "X_test.shape"
   ]
  },
  {
   "cell_type": "code",
   "execution_count": 106,
   "id": "8bf176ad",
   "metadata": {},
   "outputs": [],
   "source": [
    "var = ['CabinStaffService', 'GroundService', 'ValueForMoney',\n",
    "        'Recommended']\n",
    "\n",
    "scaler = MinMaxScaler()\n",
    "\n",
    "#Fit and transform training set only\n",
    "X_train[var] = scaler.fit_transform(X_train[var])"
   ]
  },
  {
   "cell_type": "code",
   "execution_count": 107,
   "id": "c731aeb6",
   "metadata": {},
   "outputs": [],
   "source": [
    "# Linear Regression\n",
    "\n",
    "lr = LinearRegression()\n",
    "lr.fit(X_train, y_train)\n",
    "\n",
    "# RFE \n",
    "\n",
    "rfe = RFE(lr, n_features_to_select=12)\n",
    "rfe = rfe.fit(X_train, y_train)"
   ]
  },
  {
   "cell_type": "code",
   "execution_count": 108,
   "id": "c0386f05",
   "metadata": {},
   "outputs": [
    {
     "data": {
      "text/plain": [
       "[('CabinStaffService', True, 1),\n",
       " ('GroundService', True, 1),\n",
       " ('ValueForMoney', True, 1),\n",
       " ('Recommended', False, 13),\n",
       " ('TypeOfTraveller_Couple Leisure', False, 9),\n",
       " ('TypeOfTraveller_Family Leisure', False, 8),\n",
       " ('TypeOfTraveller_NA', False, 2),\n",
       " ('TypeOfTraveller_Solo Leisure', False, 7),\n",
       " ('SeatType_Economy Class', False, 3),\n",
       " ('SeatType_First Class', False, 11),\n",
       " ('SeatType_NA', True, 1),\n",
       " ('SeatType_Premium Economy', False, 12),\n",
       " ('SeatComfort_2.0', True, 1),\n",
       " ('SeatComfort_3.0', True, 1),\n",
       " ('SeatComfort_4.0', True, 1),\n",
       " ('SeatComfort_5.0', True, 1),\n",
       " ('Food_2.0', False, 6),\n",
       " ('Food_3.0', True, 1),\n",
       " ('Food_4.0', True, 1),\n",
       " ('Food_5.0', True, 1),\n",
       " ('InflightEntertainment_2.0', False, 10),\n",
       " ('InflightEntertainment_3.0', False, 5),\n",
       " ('InflightEntertainment_4.0', False, 4),\n",
       " ('InflightEntertainment_5.0', True, 1)]"
      ]
     },
     "execution_count": 108,
     "metadata": {},
     "output_type": "execute_result"
    }
   ],
   "source": [
    "list(zip(X_train.columns,rfe.support_,rfe.ranking_))"
   ]
  },
  {
   "cell_type": "code",
   "execution_count": 109,
   "id": "4c3528b6",
   "metadata": {},
   "outputs": [],
   "source": [
    "def build_model(cols):\n",
    "    X_train_sm = sm.add_constant(X_train[cols])\n",
    "    lm = sm.OLS(y_train, X_train_sm).fit()\n",
    "    print(lm.summary())\n",
    "    return lm"
   ]
  },
  {
   "cell_type": "code",
   "execution_count": 110,
   "id": "5a95f91e",
   "metadata": {},
   "outputs": [],
   "source": [
    "def get_vif(cols):\n",
    "    df1 = X_train[cols]\n",
    "    vif = pd.DataFrame()\n",
    "    vif['Features'] = df1.columns\n",
    "    vif['VIF'] = [variance_inflation_factor(df1.values, i) for i in range(df1.shape[1])]\n",
    "    vif['VIF'] = round(vif['VIF'],2)\n",
    "    print(vif.sort_values(by='VIF',ascending=False))"
   ]
  },
  {
   "cell_type": "code",
   "execution_count": 111,
   "id": "10d3977e",
   "metadata": {},
   "outputs": [
    {
     "data": {
      "text/plain": [
       "Index(['CabinStaffService', 'GroundService', 'ValueForMoney', 'SeatType_NA',\n",
       "       'SeatComfort_2.0', 'SeatComfort_3.0', 'SeatComfort_4.0',\n",
       "       'SeatComfort_5.0', 'Food_3.0', 'Food_4.0', 'Food_5.0',\n",
       "       'InflightEntertainment_5.0'],\n",
       "      dtype='object')"
      ]
     },
     "execution_count": 111,
     "metadata": {},
     "output_type": "execute_result"
    }
   ],
   "source": [
    "X_train.columns[rfe.support_]"
   ]
  },
  {
   "cell_type": "code",
   "execution_count": 112,
   "id": "71d03b1a",
   "metadata": {},
   "outputs": [
    {
     "name": "stdout",
     "output_type": "stream",
     "text": [
      "                            OLS Regression Results                            \n",
      "==============================================================================\n",
      "Dep. Variable:          OverallRating   R-squared:                       0.842\n",
      "Model:                            OLS   Adj. R-squared:                  0.841\n",
      "Method:                 Least Squares   F-statistic:                     1143.\n",
      "Date:                Thu, 14 Dec 2023   Prob (F-statistic):               0.00\n",
      "Time:                        22:43:58   Log-Likelihood:                -4249.7\n",
      "No. Observations:                2590   AIC:                             8525.\n",
      "Df Residuals:                    2577   BIC:                             8602.\n",
      "Df Model:                          12                                         \n",
      "Covariance Type:            nonrobust                                         \n",
      "=============================================================================================\n",
      "                                coef    std err          t      P>|t|      [0.025      0.975]\n",
      "---------------------------------------------------------------------------------------------\n",
      "const                         0.6447      0.061     10.618      0.000       0.526       0.764\n",
      "CabinStaffService             1.2698      0.099     12.841      0.000       1.076       1.464\n",
      "GroundService                 1.5000      0.096     15.571      0.000       1.311       1.689\n",
      "ValueForMoney                 4.1124      0.114     36.184      0.000       3.890       4.335\n",
      "SeatType_NA                   0.7537      0.887      0.850      0.396      -0.986       2.493\n",
      "SeatComfort_2.0               0.2496      0.081      3.075      0.002       0.090       0.409\n",
      "SeatComfort_3.0               0.3577      0.078      4.605      0.000       0.205       0.510\n",
      "SeatComfort_4.0               1.1277      0.093     12.184      0.000       0.946       1.309\n",
      "SeatComfort_5.0               1.4482      0.118     12.232      0.000       1.216       1.680\n",
      "Food_3.0                      0.1833      0.065      2.814      0.005       0.056       0.311\n",
      "Food_4.0                      0.8523      0.090      9.521      0.000       0.677       1.028\n",
      "Food_5.0                      1.1278      0.113     10.004      0.000       0.907       1.349\n",
      "InflightEntertainment_5.0     0.2091      0.100      2.098      0.036       0.014       0.405\n",
      "==============================================================================\n",
      "Omnibus:                       99.256   Durbin-Watson:                   2.049\n",
      "Prob(Omnibus):                  0.000   Jarque-Bera (JB):              226.698\n",
      "Skew:                          -0.216   Prob(JB):                     5.93e-50\n",
      "Kurtosis:                       4.384   Cond. No.                         52.5\n",
      "==============================================================================\n",
      "\n",
      "Notes:\n",
      "[1] Standard Errors assume that the covariance matrix of the errors is correctly specified.\n",
      "                     Features   VIF\n",
      "0           CabinStaffService  6.57\n",
      "2               ValueForMoney  6.50\n",
      "1               GroundService  4.24\n",
      "6             SeatComfort_4.0  2.89\n",
      "7             SeatComfort_5.0  2.89\n",
      "10                   Food_5.0  2.57\n",
      "9                    Food_4.0  2.39\n",
      "5             SeatComfort_3.0  2.17\n",
      "8                    Food_3.0  1.80\n",
      "4             SeatComfort_2.0  1.42\n",
      "11  InflightEntertainment_5.0  1.35\n",
      "3                 SeatType_NA  1.00\n"
     ]
    }
   ],
   "source": [
    "cols = ['CabinStaffService', 'GroundService', 'ValueForMoney', 'SeatType_NA',\n",
    "       'SeatComfort_2.0', 'SeatComfort_3.0', 'SeatComfort_4.0',\n",
    "       'SeatComfort_5.0', 'Food_3.0', 'Food_4.0', 'Food_5.0',\n",
    "       'InflightEntertainment_5.0']\n",
    "\n",
    "build_model(cols)\n",
    "get_vif(cols)"
   ]
  },
  {
   "cell_type": "markdown",
   "id": "4bb936a9",
   "metadata": {},
   "source": [
    "**SeatType_NA**"
   ]
  },
  {
   "cell_type": "code",
   "execution_count": 113,
   "id": "bce2ace2",
   "metadata": {},
   "outputs": [
    {
     "name": "stdout",
     "output_type": "stream",
     "text": [
      "                            OLS Regression Results                            \n",
      "==============================================================================\n",
      "Dep. Variable:          OverallRating   R-squared:                       0.842\n",
      "Model:                            OLS   Adj. R-squared:                  0.841\n",
      "Method:                 Least Squares   F-statistic:                     1247.\n",
      "Date:                Thu, 14 Dec 2023   Prob (F-statistic):               0.00\n",
      "Time:                        22:43:58   Log-Likelihood:                -4250.1\n",
      "No. Observations:                2590   AIC:                             8524.\n",
      "Df Residuals:                    2578   BIC:                             8594.\n",
      "Df Model:                          11                                         \n",
      "Covariance Type:            nonrobust                                         \n",
      "=============================================================================================\n",
      "                                coef    std err          t      P>|t|      [0.025      0.975]\n",
      "---------------------------------------------------------------------------------------------\n",
      "const                         0.6466      0.061     10.657      0.000       0.528       0.766\n",
      "CabinStaffService             1.2720      0.099     12.868      0.000       1.078       1.466\n",
      "GroundService                 1.5002      0.096     15.573      0.000       1.311       1.689\n",
      "ValueForMoney                 4.1106      0.114     36.177      0.000       3.888       4.333\n",
      "SeatComfort_2.0               0.2471      0.081      3.045      0.002       0.088       0.406\n",
      "SeatComfort_3.0               0.3549      0.078      4.573      0.000       0.203       0.507\n",
      "SeatComfort_4.0               1.1251      0.092     12.164      0.000       0.944       1.306\n",
      "SeatComfort_5.0               1.4456      0.118     12.215      0.000       1.214       1.678\n",
      "Food_3.0                      0.1840      0.065      2.825      0.005       0.056       0.312\n",
      "Food_4.0                      0.8523      0.090      9.521      0.000       0.677       1.028\n",
      "Food_5.0                      1.1278      0.113     10.005      0.000       0.907       1.349\n",
      "InflightEntertainment_5.0     0.2090      0.100      2.097      0.036       0.014       0.404\n",
      "==============================================================================\n",
      "Omnibus:                       99.033   Durbin-Watson:                   2.049\n",
      "Prob(Omnibus):                  0.000   Jarque-Bera (JB):              226.475\n",
      "Skew:                          -0.215   Prob(JB):                     6.63e-50\n",
      "Kurtosis:                       4.384   Cond. No.                         9.64\n",
      "==============================================================================\n",
      "\n",
      "Notes:\n",
      "[1] Standard Errors assume that the covariance matrix of the errors is correctly specified.\n",
      "                     Features   VIF\n",
      "0           CabinStaffService  6.56\n",
      "2               ValueForMoney  6.50\n",
      "1               GroundService  4.24\n",
      "5             SeatComfort_4.0  2.89\n",
      "6             SeatComfort_5.0  2.89\n",
      "9                    Food_5.0  2.57\n",
      "8                    Food_4.0  2.39\n",
      "4             SeatComfort_3.0  2.16\n",
      "7                    Food_3.0  1.80\n",
      "3             SeatComfort_2.0  1.42\n",
      "10  InflightEntertainment_5.0  1.35\n"
     ]
    }
   ],
   "source": [
    "cols = ['CabinStaffService', 'GroundService', 'ValueForMoney', \n",
    "       'SeatComfort_2.0', 'SeatComfort_3.0', 'SeatComfort_4.0',\n",
    "       'SeatComfort_5.0', 'Food_3.0', 'Food_4.0', 'Food_5.0',\n",
    "       'InflightEntertainment_5.0']\n",
    "\n",
    "build_model(cols)\n",
    "get_vif(cols)"
   ]
  },
  {
   "cell_type": "markdown",
   "id": "ec845f3f",
   "metadata": {},
   "source": [
    "**Automatic Regression**"
   ]
  },
  {
   "cell_type": "code",
   "execution_count": 114,
   "id": "66e2d639",
   "metadata": {},
   "outputs": [],
   "source": [
    "def build_model_sk(X,y):\n",
    "    lr1 = LinearRegression()\n",
    "    lr1.fit(X,y)\n",
    "    return lr1"
   ]
  },
  {
   "cell_type": "code",
   "execution_count": 115,
   "id": "5cfd5b35",
   "metadata": {},
   "outputs": [],
   "source": [
    "cols = ['CabinStaffService', 'GroundService', 'ValueForMoney', \n",
    "       'SeatComfort_2.0', 'SeatComfort_3.0', 'SeatComfort_4.0',\n",
    "       'SeatComfort_5.0', 'Food_3.0', 'Food_4.0', 'Food_5.0',\n",
    "       'InflightEntertainment_5.0']\n",
    "\n",
    "lr = build_model_sk(X_train[cols],y_train)"
   ]
  },
  {
   "cell_type": "code",
   "execution_count": 116,
   "id": "2acfc13e",
   "metadata": {},
   "outputs": [
    {
     "name": "stdout",
     "output_type": "stream",
     "text": [
      "[1.27198323 1.50019147 4.11058114 0.24705487 0.35490676 1.12510076\n",
      " 1.44563818 0.18397896 0.85226141 1.12778849 0.20897232]\n"
     ]
    }
   ],
   "source": [
    "print(lr.coef_)"
   ]
  },
  {
   "cell_type": "code",
   "execution_count": 117,
   "id": "05fc5ba1",
   "metadata": {},
   "outputs": [
    {
     "name": "stdout",
     "output_type": "stream",
     "text": [
      "0.6466401584646526\n"
     ]
    }
   ],
   "source": [
    "print(lr.intercept_)"
   ]
  },
  {
   "cell_type": "markdown",
   "id": "ff4157e1",
   "metadata": {},
   "source": [
    "## Analysis"
   ]
  },
  {
   "cell_type": "markdown",
   "id": "02816a24",
   "metadata": {},
   "source": [
    "**Y Train predicted Analysis**"
   ]
  },
  {
   "cell_type": "code",
   "execution_count": 118,
   "id": "80d4a5c6",
   "metadata": {},
   "outputs": [],
   "source": [
    "y_train_pred = lr.predict(X_train[cols])"
   ]
  },
  {
   "cell_type": "markdown",
   "id": "81dda3c6",
   "metadata": {},
   "source": [
    "**We can draw the error Terms**"
   ]
  },
  {
   "cell_type": "code",
   "execution_count": 119,
   "id": "cc1851da",
   "metadata": {},
   "outputs": [
    {
     "data": {
      "text/plain": [
       "Text(0.5, 9.444444444444438, 'Errors')"
      ]
     },
     "execution_count": 119,
     "metadata": {},
     "output_type": "execute_result"
    },
    {
     "data": {
      "text/plain": [
       "<Figure size 640x480 with 0 Axes>"
      ]
     },
     "metadata": {},
     "output_type": "display_data"
    },
    {
     "data": {
      "image/png": "[encoded data removed]",
      "text/plain": [
       "<Figure size 500x500 with 1 Axes>"
      ]
     },
     "metadata": {},
     "output_type": "display_data"
    }
   ],
   "source": [
    "fig = plt.figure()\n",
    "sns.displot(y_train - y_train_pred)\n",
    "fig.suptitle('Error Terms') \n",
    "plt.xlabel('Errors')"
   ]
  },
  {
   "cell_type": "code",
   "execution_count": 120,
   "id": "0d23f52a",
   "metadata": {},
   "outputs": [
    {
     "data": {
      "text/plain": [
       "Text(0.5, 0, 'Errors')"
      ]
     },
     "execution_count": 120,
     "metadata": {},
     "output_type": "execute_result"
    },
    {
     "data": {
      "image/png": "[encoded data removed]",
      "text/plain": [
       "<Figure size 640x480 with 1 Axes>"
      ]
     },
     "metadata": {},
     "output_type": "display_data"
    }
   ],
   "source": [
    "# Plot the histogram of the error terms\n",
    "\n",
    "fig = plt.figure()\n",
    "sns.distplot(y_train - y_train_pred)\n",
    "fig.suptitle('Error Terms') \n",
    "plt.xlabel('Errors')"
   ]
  },
  {
   "cell_type": "markdown",
   "id": "592fccd2",
   "metadata": {},
   "source": [
    "## R-Squared y_train"
   ]
  },
  {
   "cell_type": "code",
   "execution_count": 121,
   "id": "66501012",
   "metadata": {},
   "outputs": [
    {
     "data": {
      "text/plain": [
       "0.8418349243598136"
      ]
     },
     "execution_count": 121,
     "metadata": {},
     "output_type": "execute_result"
    }
   ],
   "source": [
    "r2_score(y_train,y_train_pred)"
   ]
  },
  {
   "cell_type": "code",
   "execution_count": 122,
   "id": "7b4fae64",
   "metadata": {},
   "outputs": [
    {
     "data": {
      "image/png": "[encoded data removed]",
      "text/plain": [
       "<Figure size 640x480 with 1 Axes>"
      ]
     },
     "metadata": {},
     "output_type": "display_data"
    }
   ],
   "source": [
    "n = [i for i in range(0,len(X_train),1)]\n",
    "plt.plot(n,y_train, color=\"blue\")\n",
    "plt.plot(n,y_train_pred, color=\"red\")\n",
    "plt.suptitle('Actual vs Predicted')\n",
    "plt.xlabel('Count')\n",
    "plt.ylabel('Data Fluctuation')\n",
    "plt.show()"
   ]
  },
  {
   "cell_type": "code",
   "execution_count": 123,
   "id": "ed57004e",
   "metadata": {},
   "outputs": [
    {
     "data": {
      "text/plain": [
       "Text(0, 0.5, 'y_train_pred')"
      ]
     },
     "execution_count": 123,
     "metadata": {},
     "output_type": "execute_result"
    },
    {
     "data": {
      "image/png": "[encoded data removed]",
      "text/plain": [
       "<Figure size 640x480 with 1 Axes>"
      ]
     },
     "metadata": {},
     "output_type": "display_data"
    }
   ],
   "source": [
    "fig = plt.figure()\n",
    "plt.scatter(y_train, y_train_pred)\n",
    "fig.suptitle('y_train vs y_train_pred')          \n",
    "plt.xlabel('y_train')                         \n",
    "plt.ylabel('y_train_pred')"
   ]
  },
  {
   "cell_type": "code",
   "execution_count": 124,
   "id": "2673c05c",
   "metadata": {},
   "outputs": [],
   "source": [
    "#Scale variables in X_test\n",
    "var = ['CabinStaffService', 'GroundService', 'ValueForMoney',\n",
    "        'Recommended']\n",
    "\n",
    "#Test data to be transformed only, no fitting\n",
    "X_test[var] = scaler.transform(X_test[var])"
   ]
  },
  {
   "cell_type": "code",
   "execution_count": 125,
   "id": "fc08f721",
   "metadata": {},
   "outputs": [],
   "source": [
    "#Columns from our final model\n",
    "cols = ['CabinStaffService', 'GroundService', 'ValueForMoney', \n",
    "       'SeatComfort_2.0', 'SeatComfort_3.0', 'SeatComfort_4.0',\n",
    "       'SeatComfort_5.0', 'Food_3.0', 'Food_4.0', 'Food_5.0',\n",
    "       'InflightEntertainment_5.0']\n",
    "\n",
    "#Predict the values for test data\n",
    "y_pred = lr.predict(X_test[cols])"
   ]
  },
  {
   "cell_type": "code",
   "execution_count": 128,
   "id": "7573b5df",
   "metadata": {},
   "outputs": [
    {
     "data": {
      "text/plain": [
       "0.8342088973804859"
      ]
     },
     "execution_count": 128,
     "metadata": {},
     "output_type": "execute_result"
    }
   ],
   "source": [
    "r2_score(y_test,y_pred)"
   ]
  },
  {
   "cell_type": "code",
   "execution_count": 129,
   "id": "e80ec81f",
   "metadata": {},
   "outputs": [
    {
     "data": {
      "image/png": "[encoded data removed]",
      "text/plain": [
       "<Figure size 640x480 with 1 Axes>"
      ]
     },
     "metadata": {},
     "output_type": "display_data"
    }
   ],
   "source": [
    "n = [i for i in range(0,len(X_test),1)]\n",
    "plt.plot(n,y_test, color=\"blue\")\n",
    "plt.plot(n,y_pred, color=\"red\")\n",
    "plt.suptitle('Actual vs Predicted')\n",
    "plt.xlabel('Count')\n",
    "plt.ylabel('Data Fluctuation')\n",
    "plt.show()"
   ]
  },
  {
   "cell_type": "code",
   "execution_count": 130,
   "id": "b6e3ec38",
   "metadata": {},
   "outputs": [
    {
     "data": {
      "text/plain": [
       "Text(0, 0.5, 'y_pred')"
      ]
     },
     "execution_count": 130,
     "metadata": {},
     "output_type": "execute_result"
    },
    {
     "data": {
      "image/png": "[encoded data removed]",
      "text/plain": [
       "<Figure size 640x480 with 1 Axes>"
      ]
     },
     "metadata": {},
     "output_type": "display_data"
    }
   ],
   "source": [
    "fig = plt.figure()\n",
    "plt.scatter(y_test, y_pred)\n",
    "fig.suptitle('y_test Vs y_pred')          \n",
    "plt.xlabel('y_test')                         \n",
    "plt.ylabel('y_pred')"
   ]
  },
  {
   "cell_type": "markdown",
   "id": "729a8eeb",
   "metadata": {},
   "source": [
    "# Conclusions \n",
    "\n",
    "### To have a great response from a passenger for any flight the Cabinet Service, Ground Service, Food in Flight  , , InFlight Entertainment and Seat Comfort are very important"
   ]
  },
  {
   "cell_type": "markdown",
   "id": "94363b88",
   "metadata": {},
   "source": [
    "**End**"
   ]
  },
  {
   "cell_type": "code",
   "execution_count": null,
   "id": "4c476d39",
   "metadata": {},
   "outputs": [],
   "source": []
  }
 ],
 "metadata": {
  "kernelspec": {
   "display_name": "Python 3 (ipykernel)",
   "language": "python",
   "name": "python3"
  },
  "language_info": {
   "codemirror_mode": {
    "name": "ipython",
    "version": 3
   },
   "file_extension": ".py",
   "mimetype": "text/x-python",
   "name": "python",
   "nbconvert_exporter": "python",
   "pygments_lexer": "ipython3",
   "version": "3.11.3"
  }
 },
 "nbformat": 4,
 "nbformat_minor": 5
}
